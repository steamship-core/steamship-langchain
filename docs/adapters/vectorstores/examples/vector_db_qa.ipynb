{
 "cells": [
  {
   "cell_type": "markdown",
   "id": "0a7244ff",
   "metadata": {},
   "source": [
    "# Vector DB Question/Answering"
   ]
  },
  {
   "cell_type": "code",
   "execution_count": 1,
   "id": "e1d25e04",
   "metadata": {},
   "outputs": [],
   "source": [
    "# langchain dependencies\n",
    "from langchain.embeddings.openai import OpenAIEmbeddings\n",
    "from langchain.text_splitter import CharacterTextSplitter\n",
    "from langchain import VectorDBQA, VectorDBQAWithSourcesChain\n",
    "\n",
    "# steamship_langchain dependencies\n",
    "from steamship import Steamship\n",
    "from steamship_langchain import OpenAI\n",
    "from steamship_langchain.vectorstores import SteamshipVectorStore"
   ]
  },
  {
   "cell_type": "code",
   "execution_count": 2,
   "id": "7b24266e",
   "metadata": {},
   "outputs": [],
   "source": [
    "client = Steamship()"
   ]
  },
  {
   "cell_type": "code",
   "execution_count": 4,
   "id": "5116fb44",
   "metadata": {},
   "outputs": [],
   "source": [
    "with open(\"../../../state_of_the_union.txt\") as f:\n",
    "    state_of_the_union = f.read()\n",
    "text_splitter = CharacterTextSplitter(chunk_size=1000, chunk_overlap=0)\n",
    "texts = text_splitter.split_text(state_of_the_union)"
   ]
  },
  {
   "cell_type": "code",
   "execution_count": 7,
   "id": "1a42f99d",
   "metadata": {},
   "outputs": [],
   "source": [
    "docsearch = SteamshipVectorStore.from_texts(\n",
    "    client=client,\n",
    "    texts=texts,\n",
    "    embedding=\"text-embedding-ada-002\",\n",
    "    index_name=\"example-index\",\n",
    "    metadatas=[{\"source\": i} for i in range(len(texts))],\n",
    ")"
   ]
  },
  {
   "cell_type": "markdown",
   "id": "d8b573f1",
   "metadata": {},
   "source": [
    "# Creating chains with VectorDBQA.from_chain_type\n",
    "\n",
    "Steamship's vectorstore support all 4 chain types to create a VectorDBQA chain. \n",
    "For a more detailed walkthrough of these types, please see this notebook."
   ]
  },
  {
   "cell_type": "code",
   "execution_count": 8,
   "id": "ab23d27f",
   "metadata": {},
   "outputs": [],
   "source": [
    "qa = VectorDBQA.from_chain_type(\n",
    "    llm=OpenAI(client=client),\n",
    "    chain_type=\"stuff\",  # or map_reduce\n",
    "    vectorstore=docsearch,\n",
    "    return_source_documents=True,\n",
    ")"
   ]
  },
  {
   "cell_type": "code",
   "execution_count": 9,
   "id": "c0dfe903",
   "metadata": {},
   "outputs": [],
   "source": [
    "query = \"What did the president say about Ketanji Brown Jackson\"\n",
    "result = qa({\"query\": query})"
   ]
  },
  {
   "cell_type": "code",
   "execution_count": 10,
   "id": "698913e6",
   "metadata": {},
   "outputs": [
    {
     "data": {
      "text/plain": [
       "\" The president said that Ketanji Brown Jackson is one of the nation's top legal minds and a consensus builder who has received broad support, including from the Fraternal Order of Police and former judges appointed by Democrats and Republicans.\""
      ]
     },
     "execution_count": 10,
     "metadata": {},
     "output_type": "execute_result"
    }
   ],
   "source": [
    "result[\"result\"]"
   ]
  },
  {
   "cell_type": "code",
   "execution_count": 11,
   "id": "fa9741a0",
   "metadata": {},
   "outputs": [
    {
     "data": {
      "text/plain": [
       "[Document(page_content='As I did four days ago, I’ve nominated a Circuit Court of Appeals — Ketanji Brown Jackson. One of our nation’s top legal minds who will continue in just Brey- — Justice Breyer’s legacy of excellence. A former top litigator in private practice, a former federal public defender from a family of public-school educators and police officers — she’s a consensus builder.\\n\\nSince she’s been nominated, she’s received a broad range of support, including the Fraternal Order of Police and former judges appointed by Democrats and Republicans.\\n\\nFolks, if we are to advance liberty and justice, we need to secure our border and fix the immigration system.\\n\\nAnd as you might guess, I think we can do both. At our border, we’ve installed new technology, like cutting-edge scanners, to better detect drug smuggling.\\n\\nWe’ve set up joint patrols with Mexico and Guatemala to catch more human traffickers.', lookup_str='', metadata={'source': 39}, lookup_index=0),\n",
       " Document(page_content='From President Zelenskyy to every Ukrainian, their fearlessness, their courage, their determination literally inspires the world. Groups of citizens blocking tanks with their bodies. Everyone from students to retirees, to teachers turned soldiers defending their homeland.\\n\\nAnd in this struggle — President Zelenskyy said in his speech to the European Parliament, “Light will win over darkness.”\\n\\nThe Ukrainian Ambassador to the United States is here tonight sitting with the First Lady. Let each of us, if you’re able to stand, stand and send an unmistakable signal to the world and Ukraine. Thank you. Thank you, thank you, thank you.\\n\\nShe’s bright, she’s strong, and she’s resolved.\\n\\nYes. We, the United States of America, stand with the Ukrainian people.\\n\\nThroughout our history, we’ve learned this lesson: When dictators do not pay a price for their aggression, they cause more chaos; they keep moving; and the costs, the threats to the America — and America, to the world keeps rising.', lookup_str='', metadata={'source': 1}, lookup_index=0),\n",
       " Document(page_content='I’m also calling on Congress to pass a law to make sure veterans devastated by toxic exposure in Iraq and Afghanistan finally get the benefits and the comprehensive healthcare they deserve.\\n\\nAnd fourth and last, let’s end cancer as we know it. This is personal. This is personal to me and to Jill and to Kamala and so many of you. So many of you have lost someone you love — husband, wife, son, daughter, mom, dad.\\n\\nCancer is the number-two cause of death in America, second only to heart disease.\\n\\nLast month, I announced the plan to supercharge the Cancer Moonshot that President Obama asked me to lead six years ago.\\n\\nOur goal is to cut cancer death rates by at least 50 percent over the next 25 years. And I think we can do better than that: turn cancers from death sentences into treatable diseases, more support for patients and families.', lookup_str='', metadata={'source': 47}, lookup_index=0),\n",
       " Document(page_content='Look, Vice President Harris and I ran for office — and I realize we have fundamental disagreements on this — but ran for office with a new economic vision for America: invest in America; educate Americans; grow the workforce; build the economy from the bottom up and the middle out, not from the top down. Because we know when the middle class grows — when the middle class grows, the poor go way up and the wealthy do very well.\\n\\nAmerica used to have the best roads, bridges, and airports on Earth. And now our infrastructure is ranked 13th in the world. We won’t be able to compete for the jobs of the 21st century if we don’t fix it.\\n\\nThat’s why it was so important to pass the Bipartisan Infrastructure Law. And I thank my Republican friends who joined to invest and rebuild America — the single biggest investment in history.', lookup_str='', metadata={'source': 12}, lookup_index=0)]"
      ]
     },
     "execution_count": 11,
     "metadata": {},
     "output_type": "execute_result"
    }
   ],
   "source": [
    "result[\"source_documents\"]"
   ]
  },
  {
   "cell_type": "markdown",
   "id": "3187c712",
   "metadata": {},
   "source": [
    "## Creating chains with load_qa_chain and combine_documents_chain"
   ]
  },
  {
   "cell_type": "code",
   "execution_count": 12,
   "id": "d4ffd287",
   "metadata": {},
   "outputs": [],
   "source": [
    "from langchain.chains.question_answering import load_qa_chain\n",
    "\n",
    "qa_chain = load_qa_chain(OpenAI(client=client, temperature=0), chain_type=\"stuff\")\n",
    "qa = VectorDBQA(combine_documents_chain=qa_chain, vectorstore=docsearch)"
   ]
  },
  {
   "cell_type": "code",
   "execution_count": 13,
   "id": "ab1c4191",
   "metadata": {},
   "outputs": [
    {
     "data": {
      "text/plain": [
       "\" The president said that Ketanji Brown Jackson is one of the nation's top legal minds, a consensus builder, and has received a broad range of support, including from the Fraternal Order of Police and former judges appointed by Democrats and Republicans.\""
      ]
     },
     "execution_count": 13,
     "metadata": {},
     "output_type": "execute_result"
    }
   ],
   "source": [
    "query = \"What did the president say about Ketanji Brown Jackson\"\n",
    "qa.run(query)"
   ]
  },
  {
   "cell_type": "markdown",
   "id": "a6d21a88",
   "metadata": {},
   "source": [
    "## Creating chains with VectorDBQAWithSourcesChain.from_chain_type"
   ]
  },
  {
   "cell_type": "code",
   "execution_count": 14,
   "id": "9ecd92a0",
   "metadata": {},
   "outputs": [],
   "source": [
    "chain = VectorDBQAWithSourcesChain.from_chain_type(\n",
    "    OpenAI(client=client, temperature=0), chain_type=\"stuff\", vectorstore=docsearch\n",
    ")"
   ]
  },
  {
   "cell_type": "code",
   "execution_count": 15,
   "id": "29073711",
   "metadata": {},
   "outputs": [
    {
     "data": {
      "text/plain": [
       "{'answer': \" The president thanked Justice Breyer for his service and mentioned that he nominated Ketanji Brown Jackson to continue in Justice Breyer's legacy of excellence.\\n\",\n",
       " 'sources': '38, 39'}"
      ]
     },
     "execution_count": 15,
     "metadata": {},
     "output_type": "execute_result"
    }
   ],
   "source": [
    "chain({\"question\": \"What did the president say about Justice Breyer\"}, return_only_outputs=True)"
   ]
  }
 ],
 "metadata": {
  "kernelspec": {
   "display_name": ".venv",
   "language": "python",
   "name": "python3"
  },
  "language_info": {
   "codemirror_mode": {
    "name": "ipython",
    "version": 3
   },
   "file_extension": ".py",
   "mimetype": "text/x-python",
   "name": "python",
   "nbconvert_exporter": "python",
   "pygments_lexer": "ipython3",
   "version": "3.8.15 (default, Oct 11 2022, 21:31:25) \n[Clang 14.0.0 (clang-1400.0.29.102)]"
  },
  "vscode": {
   "interpreter": {
    "hash": "834117f4e0f61aee809513abffa40d5ecdde34fc37831cd637d73e61f5d7de69"
   }
  }
 },
 "nbformat": 4,
 "nbformat_minor": 5
}
