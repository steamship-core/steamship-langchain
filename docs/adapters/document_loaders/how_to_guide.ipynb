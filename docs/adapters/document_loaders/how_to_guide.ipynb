{
 "cells": [
  {
   "attachments": {},
   "cell_type": "markdown",
   "metadata": {},
   "source": [
    "# How-To Guide: Steamship Loader\n",
    "This is an example of using the Steamship Loader to export Steamship File's to Documents for use in LangChain applications.\n",
    "\n",
    "For this example, we will create a temporary workspace and load a local file into that workspace to simulate a production Steamship workspace. We will use the File Loader utilities included in `steamship-langchain` for this purpose. We will associate an import ID with our import to allow for demonstration of the query-based loading capabilities of `SteamshipLoader`. Including extra metadata is optional.\n",
    "\n",
    "In real usage, you would use a persistent workspace and the files would live permanently in that workspace. This would allow creation of Steamship Files to take place over time (via File Importer plugins, client-side uploads, etc.)."
   ]
  },
  {
   "cell_type": "code",
   "execution_count": 1,
   "metadata": {},
   "outputs": [],
   "source": [
    "from steamship import Steamship\n",
    "from steamship_langchain.document_loaders import SteamshipLoader\n",
    "from steamship_langchain.file_loaders import TextFileLoader"
   ]
  },
  {
   "cell_type": "code",
   "execution_count": 5,
   "metadata": {},
   "outputs": [],
   "source": [
    "# create the temporary workspace and load a simple text file to simulate a production workspace\n",
    "with Steamship.temporary_workspace() as client:\n",
    "    file_loader = TextFileLoader(client=client)\n",
    "    loaded_files = file_loader.load(\n",
    "        path=\"../../state_of_the_union.txt\", metadata={\"import-id\": \"state-of-union\"}\n",
    "    )\n",
    "\n",
    "    # use SteamshipLoader to create LangChain documents using the loaded files\n",
    "    doc_loader = SteamshipLoader(client=client, files=loaded_files)\n",
    "    loaded_docs_from_files = doc_loader.load()\n",
    "\n",
    "    # use SteamshipLoader to create LangChain documents using a file query\n",
    "    query = 'filetag and (kind \"metadata\" and value(\"import-id\") = \"state-of-union\")'\n",
    "    doc_loader_with_query = SteamshipLoader(client=client, query=query)\n",
    "    loaded_docs_from_query = doc_loader_with_query.load()"
   ]
  },
  {
   "attachments": {},
   "cell_type": "markdown",
   "metadata": {},
   "source": [
    "Show the results using direct loading."
   ]
  },
  {
   "cell_type": "code",
   "execution_count": 16,
   "metadata": {},
   "outputs": [
    {
     "name": "stdout",
     "output_type": "stream",
     "text": [
      "Loaded workspace files into 1 documents directly.\n",
      "First characters of document:\n",
      "\n",
      "Madam Speaker, Madam Vice President, and our First Lady and Second Gentleman, members of Congress and the Cabinet, Justices of the Supreme Court, my fellow Americans: Last year, COVID-19 kept us apart. This year, we’re finally together again.\n"
     ]
    }
   ],
   "source": [
    "print(f\"Loaded workspace files into {len(loaded_docs_from_files)} documents directly.\")\n",
    "print(f\"First characters of document:\\n\\n{loaded_docs_from_files[0].page_content[0:242]}\")"
   ]
  },
  {
   "attachments": {},
   "cell_type": "markdown",
   "metadata": {},
   "source": [
    "Now show the results from using a query."
   ]
  },
  {
   "cell_type": "code",
   "execution_count": 17,
   "metadata": {},
   "outputs": [
    {
     "name": "stdout",
     "output_type": "stream",
     "text": [
      "Loaded workspace files into 1 documents via query.\n",
      "First characters of document:\n",
      "\n",
      "Madam Speaker, Madam Vice President, and our First Lady and Second Gentleman, members of Congress and the Cabinet, Justices of the Supreme Court, my fellow Americans: Last year, COVID-19 kept us apart. This year, we’re finally together again.\n"
     ]
    }
   ],
   "source": [
    "print(f\"Loaded workspace files into {len(loaded_docs_from_query)} documents via query.\")\n",
    "print(f\"First characters of document:\\n\\n{loaded_docs_from_query[0].page_content[0:242]}\")"
   ]
  },
  {
   "attachments": {},
   "cell_type": "markdown",
   "metadata": {},
   "source": [
    "## Advanced usage\n",
    "\n",
    "Steamship `Files` can consist of many `Blocks`, allowing users to segment portions of text to meet their modeling needs. For example, blocks may represent separate pages in a PDF.\n",
    "\n",
    "With `SteamshipLoader`, you may choose how you want to join (or keep separate) different blocks for a file. Below are some examples."
   ]
  },
  {
   "cell_type": "code",
   "execution_count": 18,
   "metadata": {},
   "outputs": [],
   "source": [
    "from steamship import Block, File\n",
    "\n",
    "# create the temporary workspace and load a text file with multiple blocks\n",
    "with Steamship.temporary_workspace() as client:\n",
    "    test_file = File.create(\n",
    "        client=client,\n",
    "        blocks=[\n",
    "            Block(text=\"There's a lady who's sure\"),\n",
    "            Block(text=\"All that glitters is gold\"),\n",
    "            Block(text=\"And she's buying a stairway to heaven\"),\n",
    "        ],\n",
    "    )\n",
    "\n",
    "    # join the blocks with a single return\n",
    "    join_loader = SteamshipLoader(client=client, files=[test_file], join_str=\"\\n\")\n",
    "    joined_docs = join_loader.load()\n",
    "\n",
    "    # keep blocks separate\n",
    "    separate_loader = SteamshipLoader(client=client, files=[test_file], collapse_blocks=False)\n",
    "    separate_docs = separate_loader.load()"
   ]
  },
  {
   "attachments": {},
   "cell_type": "markdown",
   "metadata": {},
   "source": [
    "Show the results of collapsing the blocks to create a single document."
   ]
  },
  {
   "cell_type": "code",
   "execution_count": 20,
   "metadata": {},
   "outputs": [
    {
     "name": "stdout",
     "output_type": "stream",
     "text": [
      "Loaded files into 1 documents.\n",
      "Document:\n",
      "\n",
      "There's a lady who's sure\n",
      "All that glitters is gold\n",
      "And she's buying a stairway to heaven\n"
     ]
    }
   ],
   "source": [
    "print(f\"Loaded files into {len(joined_docs)} documents.\")\n",
    "print(f\"Document:\\n\\n{joined_docs[0].page_content}\")"
   ]
  },
  {
   "attachments": {},
   "cell_type": "markdown",
   "metadata": {},
   "source": [
    "Now show the results of keeping file blocks separate..."
   ]
  },
  {
   "cell_type": "code",
   "execution_count": 21,
   "metadata": {},
   "outputs": [
    {
     "name": "stdout",
     "output_type": "stream",
     "text": [
      "Loaded files into 3 documents.\n",
      "Documents:\n",
      "\n",
      "[Document(page_content=\"There's a lady who's sure\", lookup_str='', metadata={'source': 'doting-smokescreen-8kmwk'}, lookup_index=0), Document(page_content='All that glitters is gold', lookup_str='', metadata={'source': 'doting-smokescreen-8kmwk'}, lookup_index=0), Document(page_content=\"And she's buying a stairway to heaven\", lookup_str='', metadata={'source': 'doting-smokescreen-8kmwk'}, lookup_index=0)]\n"
     ]
    }
   ],
   "source": [
    "print(f\"Loaded files into {len(separate_docs)} documents.\")\n",
    "print(f\"Documents:\\n\\n{separate_docs}\")"
   ]
  }
 ],
 "metadata": {
  "kernelspec": {
   "display_name": ".venv",
   "language": "python",
   "name": "python3"
  },
  "language_info": {
   "codemirror_mode": {
    "name": "ipython",
    "version": 3
   },
   "file_extension": ".py",
   "mimetype": "text/x-python",
   "name": "python",
   "nbconvert_exporter": "python",
   "pygments_lexer": "ipython3",
   "version": "3.8.15 (default, Oct 11 2022, 21:31:25) \n[Clang 14.0.0 (clang-1400.0.29.102)]"
  },
  "orig_nbformat": 4,
  "vscode": {
   "interpreter": {
    "hash": "834117f4e0f61aee809513abffa40d5ecdde34fc37831cd637d73e61f5d7de69"
   }
  }
 },
 "nbformat": 4,
 "nbformat_minor": 2
}
